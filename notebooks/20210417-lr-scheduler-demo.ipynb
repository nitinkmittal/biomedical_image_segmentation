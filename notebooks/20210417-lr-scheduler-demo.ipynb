{
 "cells": [
  {
   "cell_type": "code",
   "execution_count": 34,
   "id": "8ecf0bb9",
   "metadata": {},
   "outputs": [],
   "source": [
    "import torch\n",
    "from torch import nn\n",
    "from torch.optim import Adam, lr_scheduler\n",
    "from matplotlib import pyplot as plt\n",
    "from time import sleep\n",
    "import numpy as np"
   ]
  },
  {
   "cell_type": "code",
   "execution_count": 17,
   "id": "eeac2b35",
   "metadata": {},
   "outputs": [],
   "source": [
    "true_params = torch.tensor([2., 80.])\n",
    "X = torch.cat([torch.ones(10,1), torch.arange(10).view(-1,1)], dim=1)\n",
    "Y = (true_params * X).sum(axis=1, keepdims=True)"
   ]
  },
  {
   "cell_type": "code",
   "execution_count": 18,
   "id": "e2c7bf87",
   "metadata": {},
   "outputs": [
    {
     "data": {
      "text/plain": [
       "<matplotlib.collections.PathCollection at 0x2b401d015070>"
      ]
     },
     "execution_count": 18,
     "metadata": {},
     "output_type": "execute_result"
    },
    {
     "data": {
      "image/png": "[encoded data removed]",
      "text/plain": [
       "<Figure size 432x288 with 1 Axes>"
      ]
     },
     "metadata": {
      "needs_background": "light"
     },
     "output_type": "display_data"
    }
   ],
   "source": [
    "plt.scatter(X[:,1], Y[:,0])"
   ]
  },
  {
   "cell_type": "code",
   "execution_count": 19,
   "id": "fb27bf5c",
   "metadata": {},
   "outputs": [],
   "source": [
    "lr = .1\n",
    "model = nn.Linear(1, 1, bias=True)\n",
    "optimizer = Adam(model.parameters(), lr=lr)\n",
    "lambda1 = lambda epoch: 0.95\n",
    "scheduler = lr_scheduler.MultiplicativeLR(optimizer=optimizer, lr_lambda=lambda1)\n",
    "loss = torch.nn.MSELoss()"
   ]
  },
  {
   "cell_type": "code",
   "execution_count": 20,
   "id": "60257921",
   "metadata": {},
   "outputs": [
    {
     "data": {
      "text/plain": [
       "{'state': {},\n",
       " 'param_groups': [{'lr': 0.1,\n",
       "   'betas': (0.9, 0.999),\n",
       "   'eps': 1e-08,\n",
       "   'weight_decay': 0,\n",
       "   'amsgrad': False,\n",
       "   'initial_lr': 0.1,\n",
       "   'params': [0, 1]}]}"
      ]
     },
     "execution_count": 20,
     "metadata": {},
     "output_type": "execute_result"
    }
   ],
   "source": [
    "optimizer.state_dict()"
   ]
  },
  {
   "cell_type": "code",
   "execution_count": 21,
   "id": "369cd683",
   "metadata": {},
   "outputs": [
    {
     "data": {
      "text/plain": [
       "{'base_lrs': [0.1],\n",
       " 'last_epoch': 0,\n",
       " '_step_count': 1,\n",
       " 'verbose': False,\n",
       " '_get_lr_called_within_step': False,\n",
       " '_last_lr': [0.1],\n",
       " 'lr_lambdas': [None]}"
      ]
     },
     "execution_count": 21,
     "metadata": {},
     "output_type": "execute_result"
    }
   ],
   "source": [
    "scheduler.state_dict()"
   ]
  },
  {
   "cell_type": "code",
   "execution_count": 22,
   "id": "b9437335",
   "metadata": {},
   "outputs": [],
   "source": [
    "lrs, losses = [], []"
   ]
  },
  {
   "cell_type": "code",
   "execution_count": 23,
   "id": "236ba636",
   "metadata": {},
   "outputs": [],
   "source": [
    "for epoch in range(1000):\n",
    "    Y_hat = model(X[:,1].view(-1,1))\n",
    "    loss_ = loss(Y, Y_hat)\n",
    "    optimizer.zero_grad()\n",
    "    loss_.backward()\n",
    "    \n",
    "    optimizer.step()\n",
    "    \n",
    "    scheduler.step()\n",
    "    \n",
    "    losses.append(loss_.item())\n",
    "    lrs.append(optimizer.state_dict()[\"param_groups\"][0][\"lr\"])\n",
    "#     print(loss_.item(), optimizer.state_dict()[\"param_groups\"][0][\"lr\"])\n",
    "#     sleep(1)"
   ]
  },
  {
   "cell_type": "code",
   "execution_count": 24,
   "id": "f0de6427",
   "metadata": {},
   "outputs": [
    {
     "data": {
      "text/plain": [
       "[<matplotlib.lines.Line2D at 0x2b401ccd7a60>]"
      ]
     },
     "execution_count": 24,
     "metadata": {},
     "output_type": "execute_result"
    },
    {
     "data": {
      "image/png": "[encoded data removed]",
      "text/plain": [
       "<Figure size 432x288 with 1 Axes>"
      ]
     },
     "metadata": {
      "needs_background": "light"
     },
     "output_type": "display_data"
    }
   ],
   "source": [
    "plt.plot(losses)"
   ]
  },
  {
   "cell_type": "code",
   "execution_count": 25,
   "id": "f32ee555",
   "metadata": {},
   "outputs": [
    {
     "data": {
      "text/plain": [
       "[<matplotlib.lines.Line2D at 0x2b401cd63670>]"
      ]
     },
     "execution_count": 25,
     "metadata": {},
     "output_type": "execute_result"
    },
    {
     "data": {
      "image/png": "[encoded data removed]",
      "text/plain": [
       "<Figure size 432x288 with 1 Axes>"
      ]
     },
     "metadata": {
      "needs_background": "light"
     },
     "output_type": "display_data"
    }
   ],
   "source": [
    "plt.plot(lrs)"
   ]
  },
  {
   "cell_type": "code",
   "execution_count": 45,
   "id": "f22b47a3",
   "metadata": {},
   "outputs": [],
   "source": [
    "lr = .1\n",
    "model = nn.Linear(1, 1, bias=True)\n",
    "optimizer = Adam(model.parameters(), lr=lr)\n",
    "scheduler = lr_scheduler.StepLR(optimizer=optimizer, step_size=100, gamma=.99)\n",
    "loss = torch.nn.MSELoss()"
   ]
  },
  {
   "cell_type": "code",
   "execution_count": 46,
   "id": "4ed83f80",
   "metadata": {},
   "outputs": [
    {
     "data": {
      "text/plain": [
       "{'state': {},\n",
       " 'param_groups': [{'lr': 0.1,\n",
       "   'betas': (0.9, 0.999),\n",
       "   'eps': 1e-08,\n",
       "   'weight_decay': 0,\n",
       "   'amsgrad': False,\n",
       "   'initial_lr': 0.1,\n",
       "   'params': [0, 1]}]}"
      ]
     },
     "execution_count": 46,
     "metadata": {},
     "output_type": "execute_result"
    }
   ],
   "source": [
    "optimizer.state_dict()"
   ]
  },
  {
   "cell_type": "code",
   "execution_count": 47,
   "id": "0a1902c4",
   "metadata": {},
   "outputs": [
    {
     "data": {
      "text/plain": [
       "{'step_size': 100,\n",
       " 'gamma': 0.99,\n",
       " 'base_lrs': [0.1],\n",
       " 'last_epoch': 0,\n",
       " '_step_count': 1,\n",
       " 'verbose': False,\n",
       " '_get_lr_called_within_step': False,\n",
       " '_last_lr': [0.1]}"
      ]
     },
     "execution_count": 47,
     "metadata": {},
     "output_type": "execute_result"
    }
   ],
   "source": [
    "scheduler.state_dict()"
   ]
  },
  {
   "cell_type": "code",
   "execution_count": 48,
   "id": "e99aeedb",
   "metadata": {},
   "outputs": [],
   "source": [
    "lrs, losses = [], []"
   ]
  },
  {
   "cell_type": "code",
   "execution_count": 49,
   "id": "8239a6a6",
   "metadata": {},
   "outputs": [],
   "source": [
    "for epoch in range(1000):\n",
    "    Y_hat = model(X[:,1].view(-1,1))\n",
    "    loss_ = loss(Y, Y_hat)\n",
    "    optimizer.zero_grad()\n",
    "    loss_.backward()\n",
    "    \n",
    "    optimizer.step()\n",
    "    \n",
    "    scheduler.step()\n",
    "    \n",
    "    losses.append(loss_.item())\n",
    "    lrs.append(optimizer.state_dict()[\"param_groups\"][0][\"lr\"])\n",
    "#     print(loss_.item(), optimizer.state_dict()[\"param_groups\"][0][\"lr\"])\n",
    "#     sleep(1)"
   ]
  },
  {
   "cell_type": "code",
   "execution_count": 50,
   "id": "1e04b6ba",
   "metadata": {},
   "outputs": [
    {
     "data": {
      "text/plain": [
       "[<matplotlib.lines.Line2D at 0x2b401d8ce970>]"
      ]
     },
     "execution_count": 50,
     "metadata": {},
     "output_type": "execute_result"
    },
    {
     "data": {
      "image/png": "[encoded data removed]",
      "text/plain": [
       "<Figure size 432x288 with 1 Axes>"
      ]
     },
     "metadata": {
      "needs_background": "light"
     },
     "output_type": "display_data"
    }
   ],
   "source": [
    "plt.plot(losses)"
   ]
  },
  {
   "cell_type": "code",
   "execution_count": 51,
   "id": "2e9bb8e7",
   "metadata": {},
   "outputs": [
    {
     "data": {
      "text/plain": [
       "[<matplotlib.lines.Line2D at 0x2b401d9c2760>]"
      ]
     },
     "execution_count": 51,
     "metadata": {},
     "output_type": "execute_result"
    },
    {
     "data": {
      "image/png": "[encoded data removed]",
      "text/plain": [
       "<Figure size 432x288 with 1 Axes>"
      ]
     },
     "metadata": {
      "needs_background": "light"
     },
     "output_type": "display_data"
    }
   ],
   "source": [
    "plt.plot(lrs)"
   ]
  },
  {
   "cell_type": "code",
   "execution_count": 52,
   "id": "05b3fca1",
   "metadata": {},
   "outputs": [
    {
     "data": {
      "text/plain": [
       "array([0.1       , 0.099     , 0.09801   , 0.0970299 , 0.0960596 ,\n",
       "       0.095099  , 0.09414801, 0.09320653, 0.09227447, 0.09135172,\n",
       "       0.09043821])"
      ]
     },
     "execution_count": 52,
     "metadata": {},
     "output_type": "execute_result"
    }
   ],
   "source": [
    "np.unique(lrs)[::-1]"
   ]
  },
  {
   "cell_type": "code",
   "execution_count": null,
   "id": "320f2e9d",
   "metadata": {},
   "outputs": [],
   "source": []
  }
 ],
 "metadata": {
  "kernelspec": {
   "display_name": "biomedical_image_segmentation",
   "language": "python",
   "name": "biomedical_image_segmentation"
  },
  "language_info": {
   "codemirror_mode": {
    "name": "ipython",
    "version": 3
   },
   "file_extension": ".py",
   "mimetype": "text/x-python",
   "name": "python",
   "nbconvert_exporter": "python",
   "pygments_lexer": "ipython3",
   "version": "3.9.2"
  }
 },
 "nbformat": 4,
 "nbformat_minor": 5
}
