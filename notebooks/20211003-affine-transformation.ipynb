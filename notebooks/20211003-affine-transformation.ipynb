{
 "cells": [
  {
   "cell_type": "markdown",
   "metadata": {
    "id": "HnMNmJsezD6q"
   },
   "source": [
    "https://docs.opencv.org/2.4/doc/tutorials/imgproc/imgtrans/warp_affine/warp_affine.html#warp-affine"
   ]
  },
  {
   "cell_type": "code",
   "execution_count": null,
   "metadata": {},
   "outputs": [],
   "source": [
    "%load_ext autoreload\n",
    "%autoreload 2"
   ]
  },
  {
   "cell_type": "code",
   "execution_count": null,
   "metadata": {
    "id": "OUIfX-u-_fon"
   },
   "outputs": [],
   "source": [
    "import numpy as np\n",
    "\n",
    "import pandas as pd\n",
    "import matplotlib.pyplot as plt\n",
    "import cv2\n",
    "import os\n",
    "from copy import deepcopy\n",
    "from scipy.ndimage.interpolation import map_coordinates\n",
    "from scipy.ndimage.filters import gaussian_filter\n",
    "from torchvision.transforms import ToPILImage\n",
    "from PIL import Image\n",
    "from torchvision.utils import make_grid\n",
    "from torchvision.transforms import ToTensor\n",
    "from torch import Tensor"
   ]
  },
  {
   "cell_type": "code",
   "execution_count": null,
   "metadata": {},
   "outputs": [],
   "source": [
    "from biomedical_image_segmentation.plot_utils import insert_grid\n",
    "from biomedical_image_segmentation.elastic_deform import getAffineTransform"
   ]
  },
  {
   "cell_type": "code",
   "execution_count": null,
   "metadata": {},
   "outputs": [],
   "source": [
    "h, w = 200, 250"
   ]
  },
  {
   "cell_type": "markdown",
   "metadata": {},
   "source": [
    "## Pick 3 points in image space"
   ]
  },
  {
   "cell_type": "code",
   "execution_count": null,
   "metadata": {},
   "outputs": [],
   "source": [
    "from typing import List\n",
    "def scatter_plot(\n",
    "    list_pts: List[np.ndarray], \n",
    "    h: int, \n",
    "    w: int, \n",
    "    extend_xylim_by: int=50):\n",
    "    \n",
    "    markers = [\n",
    "        \".\",\n",
    "        \",\",\n",
    "        \"o\", \n",
    "        \"v\",\n",
    "        \"^\",\n",
    "        \"<\",\n",
    "        \">\",\n",
    "        \"1\",\n",
    "        \"2\",\n",
    "        \"3\",\n",
    "        \"4\",\n",
    "        \"8\",\n",
    "        \"s\",\n",
    "        \"p\",\n",
    "        \"P\",\n",
    "        \"*\",\n",
    "        \"h\",\n",
    "        \"H\",\n",
    "        \"+\",\n",
    "        \"x\",\n",
    "        \"X\",\n",
    "        \"D\",\n",
    "        \"d\",\n",
    "        \"|\"]\n",
    "    n = len(list_pts)\n",
    "    fig, axes = plt.subplots(figsize=(4*n, 6), ncols=n)\n",
    "    \n",
    "    if not hasattr(axes, \"flatten\"):\n",
    "        axes = [axes]\n",
    "        \n",
    "    for i, pts in enumerate(list_pts):\n",
    "        axes[i].scatter(pts[:,0], pts[:,1], marker=markers[i%n], color=\"green\")\n",
    "        axes[i].set_ylim(-extend_xylim_by, h+extend_xylim_by)\n",
    "        axes[i].set_xlim(-extend_xylim_by, w+extend_xylim_by)\n",
    "\n",
    "        axes[i].grid()\n",
    "#     for (x1, y1), (x2, y2) in zip(pts_src, pts_dst):\n",
    "#         label = f\"{x1:.1f},{y1:.1f}\"\n",
    "\n",
    "#         ax.annotate(\n",
    "#             label, # this is the text\n",
    "#             (x1, y1), # this is the point to label\n",
    "#             textcoords=\"offset points\", # how to position the text\n",
    "#             xytext=(0, 10), # distance from text to points (x,y)\n",
    "#             ha='center') # horizontal alignment can be left, right or center\n",
    "        \n",
    "#         label = f\"{x2:.1f},{y2:.1f}\"\n",
    "#         ax.annotate(\n",
    "#             label, # this is the text\n",
    "#             (x2, y2), # this is the point to label\n",
    "#             textcoords=\"offset points\", # how to position the text\n",
    "#             xytext=(0, 10), # distance from text to points (x,y)\n",
    "#             ha='center') # horizontal alignment can be left, right or center\n",
    "\n",
    "        \n",
    "    plt.show()"
   ]
  },
  {
   "cell_type": "code",
   "execution_count": null,
   "metadata": {
    "colab": {
     "base_uri": "https://localhost:8080/"
    },
    "id": "otM3Uf1GwBgo",
    "outputId": "9826f892-e006-4289-8b78-8686d1ca3a84"
   },
   "outputs": [],
   "source": [
    "# find center of image\n",
    "ref_ratio = 4.\n",
    "center_coord = np.float32([w, h]) // 2\n",
    "print(\"Center coordinates in image space : \", center_coord)\n",
    "\n",
    "ref_point = min((h, w)) // ref_ratio # reference point\n",
    "print(\"Reference point in image space : \", ref_point)\n",
    "\n",
    "# Affine tranformation will generate transformation matrix when provided with 3 points in original image and 3 points in transformed image\n",
    "pts_src = np.float32([\n",
    "    center_coord - ref_point,\n",
    "    center_coord + np.array([1., -1.]) * ref_point,\n",
    "    center_coord + ref_point])\n",
    "\n",
    "# pts_src = np.float32([\n",
    "#     np.array([0., 0.]),\n",
    "#     np.array([1., 1.]) * ref_point,\n",
    "#     np.array([1., 0.]) * ref_point\n",
    "# ])\n",
    "\n",
    "print(f\"pts_src: {pts_src}\")\n",
    "print(f\"Shape of points in image space: {pts_src.shape}\")\n",
    "scatter_plot([pts_src], h, w)"
   ]
  },
  {
   "cell_type": "markdown",
   "metadata": {},
   "source": [
    "## Convert points in image space into points in transformed image space"
   ]
  },
  {
   "cell_type": "code",
   "execution_count": null,
   "metadata": {
    "colab": {
     "base_uri": "https://localhost:8080/"
    },
    "id": "RS-ttsTWwq37",
    "outputId": "c582d97b-104b-4d93-993f-2d457a279d80"
   },
   "outputs": [],
   "source": [
    "# Random Affine\n",
    "alpha = 50.\n",
    "pts_dst1 = pts_src + np.array([alpha, alpha], dtype=pts_src.dtype)\n",
    "scatter_plot([pts_src, pts_dst1,], h, w)"
   ]
  },
  {
   "cell_type": "code",
   "execution_count": null,
   "metadata": {},
   "outputs": [],
   "source": [
    "def plot_images(imgs: List[Tensor]):\n",
    "    \"\"\"Generate PIL image for given list of tensors.\"\"\"\n",
    "    return ToPILImage()(\n",
    "        make_grid([ToTensor()(img) for img in imgs], pad_value=1, padding=10))"
   ]
  },
  {
   "cell_type": "code",
   "execution_count": null,
   "metadata": {},
   "outputs": [],
   "source": [
    "theta = np.radians(5)\n",
    "c, s = np.cos(theta), np.sin(theta)\n",
    "R = np.array(((c, -s), (s, c)))\n",
    "print(R) \n",
    "pts_dst2 = (pts_src @ R.T).astype(pts_src.dtype)\n",
    "scatter_plot([pts_src, pts_dst1, pts_dst2], h, w)"
   ]
  },
  {
   "cell_type": "code",
   "execution_count": null,
   "metadata": {},
   "outputs": [],
   "source": [
    "# get transformation matrix\n",
    "img = np.zeros((h, w, 3), dtype=np.uint8)\n",
    "img = insert_grid(img, (25, 25), color=(255, 255, 255))\n",
    "\n",
    "M1 = cv2.getAffineTransform(pts_src, pts_dst1)\n",
    "trnsf_img1 = cv2.warpAffine(\n",
    "    src=img,\n",
    "    M=M1,\n",
    "    dsize=(w, h), \n",
    "    borderMode=cv2.BORDER_REFLECT_101)\n",
    "\n",
    "M2 = cv2.getAffineTransform(pts_src, pts_dst2)\n",
    "trnsf_img2 = cv2.warpAffine(\n",
    "    src=img,\n",
    "    M=M2,\n",
    "    dsize=(w, h), \n",
    "    borderMode=cv2.BORDER_REFLECT_101)\n",
    "\n",
    "plot_images([img, trnsf_img1, trnsf_img2])"
   ]
  },
  {
   "cell_type": "code",
   "execution_count": null,
   "metadata": {},
   "outputs": [],
   "source": [
    "M1.shape"
   ]
  },
  {
   "cell_type": "code",
   "execution_count": null,
   "metadata": {},
   "outputs": [],
   "source": [
    "img = Image.open(\"/home/mittal.nit/projects/biomedical_image_segmentation/data/masks/train/0.tif\")\n",
    "img = np.expand_dims(np.array(img), axis=-1)\n",
    "# trnsf_img1 = getAffineTransform(img, degree=0, alpha=50)\n",
    "# plot_images([img, trnsf_img1])"
   ]
  },
  {
   "cell_type": "code",
   "execution_count": null,
   "metadata": {},
   "outputs": [],
   "source": [
    "type(img)"
   ]
  },
  {
   "cell_type": "code",
   "execution_count": null,
   "metadata": {},
   "outputs": [],
   "source": []
  },
  {
   "cell_type": "code",
   "execution_count": null,
   "metadata": {},
   "outputs": [],
   "source": [
    "trnsf_img2 = getAffineTransform(img, degree=45, alpha=0)\n",
    "plot_images([img, trnsf_img1, trnsf_img2])"
   ]
  },
  {
   "cell_type": "code",
   "execution_count": null,
   "metadata": {},
   "outputs": [],
   "source": [
    "trnsf_img3 = getAffineTransform(img, degree=45, alpha=50)\n",
    "plot_images([img, trnsf_img1, trnsf_img2, trnsf_img3])"
   ]
  },
  {
   "cell_type": "markdown",
   "metadata": {},
   "source": [
    "# Elastic deformation"
   ]
  },
  {
   "cell_type": "code",
   "execution_count": null,
   "metadata": {},
   "outputs": [],
   "source": [
    "from biomedical_image_segmentation.elastic_deform import (\n",
    "    getElasticTransform,\n",
    "    getAffineAndElasticDeform)"
   ]
  },
  {
   "cell_type": "code",
   "execution_count": null,
   "metadata": {},
   "outputs": [],
   "source": [
    "img = np.zeros((h, w, 3), dtype=np.uint8)\n",
    "img = insert_grid(img, (25, 25), color=(255, 255, 255))\n",
    "plot_images([img])"
   ]
  },
  {
   "cell_type": "code",
   "execution_count": null,
   "metadata": {},
   "outputs": [],
   "source": [
    "trnsf_img1 = getElasticTransform(img, sigma=12, alpha=100)\n",
    "plot_images([img, trnsf_img1])"
   ]
  },
  {
   "cell_type": "code",
   "execution_count": null,
   "metadata": {},
   "outputs": [],
   "source": [
    "trnsf_img2 = getAffineAndElasticDeform(\n",
    "    img, \n",
    "    affine_transform=True, \n",
    "    affine_degree=45, \n",
    "    affine_alpha=10, \n",
    "    elastic_transform=True, \n",
    "    elastic_sigma=12, \n",
    "    elastic_alpha=120)\n",
    "plot_images([img, trnsf_img1, trnsf_img2])"
   ]
  },
  {
   "cell_type": "code",
   "execution_count": null,
   "metadata": {},
   "outputs": [],
   "source": [
    "img = Image.open(\"/home/mittal.nit/projects/biomedical_image_segmentation/data/masks/train/0.tif\")\n",
    "img = np.expand_dims(np.array(img), axis=-1)\n",
    "seed = 40\n",
    "trnsf_img1 = getAffineAndElasticDeform(\n",
    "    img, \n",
    "    affine_transform=True, \n",
    "    affine_degree=10, \n",
    "    affine_alpha=0, \n",
    "    elastic_transform=True, \n",
    "    elastic_sigma=12, \n",
    "    elastic_alpha=200, \n",
    "    seed=seed)\n",
    "plot_images([img, trnsf_img1,])"
   ]
  },
  {
   "cell_type": "code",
   "execution_count": null,
   "metadata": {},
   "outputs": [],
   "source": [
    "trnsf_img2 = getAffineAndElasticDeform(\n",
    "    img, \n",
    "    affine_transform=True, \n",
    "    affine_degree=10, \n",
    "    affine_alpha=0, \n",
    "    elastic_transform=True, \n",
    "    elastic_sigma=12, \n",
    "    elastic_alpha=200, \n",
    "    seed=seed)\n",
    "plot_images([img, trnsf_img1, trnsf_img2])"
   ]
  },
  {
   "cell_type": "code",
   "execution_count": null,
   "metadata": {},
   "outputs": [],
   "source": [
    "np.allclose(trnsf_img2, trnsf_img1)"
   ]
  },
  {
   "cell_type": "code",
   "execution_count": null,
   "metadata": {},
   "outputs": [],
   "source": []
  }
 ],
 "metadata": {
  "colab": {
   "collapsed_sections": [],
   "name": "Elastic deformation.ipynb",
   "provenance": []
  },
  "kernelspec": {
   "display_name": "biomedical_image_segmentation",
   "language": "python",
   "name": "biomedical_image_segmentation"
  },
  "language_info": {
   "codemirror_mode": {
    "name": "ipython",
    "version": 3
   },
   "file_extension": ".py",
   "mimetype": "text/x-python",
   "name": "python",
   "nbconvert_exporter": "python",
   "pygments_lexer": "ipython3",
   "version": "3.9.2"
  }
 },
 "nbformat": 4,
 "nbformat_minor": 4
}
