{
 "cells": [
  {
   "cell_type": "code",
   "execution_count": 1,
   "id": "9eec128e",
   "metadata": {},
   "outputs": [],
   "source": [
    "%load_ext autoreload\n",
    "%autoreload 2"
   ]
  },
  {
   "cell_type": "code",
   "execution_count": 2,
   "id": "d2a5adb0",
   "metadata": {},
   "outputs": [],
   "source": [
    "import os\n",
    "import sys\n",
    "from torchvision.transforms import Compose, ToTensor, Normalize, Lambda, functional, CenterCrop\n",
    "from torch.utils.data import DataLoader, Dataset\n",
    "from tqdm import tqdm\n",
    "import torch\n",
    "from typing import List, Tuple, Any\n",
    "import numpy as np\n",
    "from matplotlib import pyplot as plt\n",
    "import logging\n",
    "from pickle import dump\n",
    "from time import time\n",
    "from math import ceil"
   ]
  },
  {
   "cell_type": "code",
   "execution_count": 3,
   "id": "86405bd1",
   "metadata": {},
   "outputs": [],
   "source": [
    "from biomedical_image_segmentation.utils import load_pickle\n",
    "from biomedical_image_segmentation.losses.loss import MSELoss, BCELoss\n",
    "from biomedical_image_segmentation.models.custom_unet import CustomUNet\n",
    "from biomedical_image_segmentation.data.validator import validate \n",
    "from biomedical_image_segmentation.utils import create_dir, empty_dir"
   ]
  },
  {
   "cell_type": "code",
   "execution_count": 4,
   "id": "1f2e62d0",
   "metadata": {},
   "outputs": [],
   "source": [
    "PROJECT_PATH = os.getcwd().replace(\"notebooks\",\"\")\n",
    "LOG_PATH = os.path.join(PROJECT_PATH, \"logs\")\n",
    "DATA_PATH = os.path.join(PROJECT_PATH, \"data\")\n",
    "SAMPLES_PATH = os.path.join(DATA_PATH, \"samples\")\n",
    "TRAIN_SAMPLES_PATH = os.path.join(SAMPLES_PATH, \"train\")\n",
    "MASKS_PATH = os.path.join(DATA_PATH, \"masks\")\n",
    "TRAIN_MASKS_PATH = os.path.join(MASKS_PATH, \"train\")\n",
    "\n",
    "AUGMENTED_DATA_PATH = os.path.join(DATA_PATH, \"augmented\")\n",
    "VALID_DATA_PATH = os.path.join(DATA_PATH, \"valid\")\n",
    "TEST_DATA_PATH = os.path.join(DATA_PATH, \"test\")\n",
    "\n",
    "MODEL_PATH = os.path.join(DATA_PATH, \"model-weights\")\n",
    "MODEL_NAME = \"unet-700-manual-weighted-pixels\"\n",
    "OPTIMIZER_NAME = f\"{MODEL_NAME}-optimizer\"\n",
    "LR_SCHEDULER_NAME = f\"{MODEL_NAME}-lr-scheduler\"\n",
    "METRICS_NAME = f\"{MODEL_NAME}-metrics\"\n",
    "\n",
    "SCRIPT_NAME = f\"{MODEL_NAME}-model-fitting\"\n",
    "\n",
    "LOG_FILE_NAME = os.path.join(LOG_PATH, f\"{SCRIPT_NAME}_{int(time())}.log\")\n",
    "\n",
    "VALIDATE_DATA = True\n",
    "COMPUTE_PIXEL_WEIGHTS = False\n",
    "\n",
    "TRAIN_BATCH_SIZE = 3\n",
    "VALID_BATCH_SIZE = 1\n",
    "TEST_BATCH_SIZE = 1\n",
    "\n",
    "EPOCHS = 10\n",
    "LEARNING_RATE = 2e-4\n",
    "BETAS = (.99, .999)\n",
    "\n",
    "# learning rate scheduler\n",
    "STEP_SIZE = 100\n",
    "GAMMA = .999\n",
    "\n",
    "MIN_LOG_BATCH_WINDOW = 100"
   ]
  },
  {
   "cell_type": "code",
   "execution_count": 5,
   "id": "6eceeab9",
   "metadata": {},
   "outputs": [],
   "source": [
    "create_dir(LOG_PATH, True)\n",
    "\n",
    "if os.path.basename(LOG_FILE_NAME) in os.listdir(LOG_PATH): os.remove(LOG_FILE_NAME)\n",
    "    \n",
    "logging.basicConfig(\n",
    "    filename=LOG_FILE_NAME,\n",
    "    format='%(asctime)s %(message)s',\n",
    "    datefmt='%m/%d/%Y %I:%M:%S %p',\n",
    "    encoding='utf-8', \n",
    "    level=logging.INFO)"
   ]
  },
  {
   "cell_type": "code",
   "execution_count": 6,
   "id": "eb96cea3",
   "metadata": {},
   "outputs": [],
   "source": [
    "logging.info(f\"Number of epochs: {EPOCHS}\")\n",
    "logging.info(f\"Initial learning rate: {LEARNING_RATE: .10f}\")"
   ]
  },
  {
   "cell_type": "code",
   "execution_count": 7,
   "id": "f843a2c0",
   "metadata": {},
   "outputs": [],
   "source": [
    "logging.info(f\"Creating directory: {MODEL_PATH}\")\n",
    "create_dir(MODEL_PATH, True)"
   ]
  },
  {
   "cell_type": "code",
   "execution_count": 8,
   "id": "c2344cb3",
   "metadata": {},
   "outputs": [
    {
     "name": "stderr",
     "output_type": "stream",
     "text": [
      "                                               \r"
     ]
    }
   ],
   "source": [
    "logging.info(\"Loading train dataset\")\n",
    "train_dataset = []\n",
    "for f in tqdm(os.listdir(path=AUGMENTED_DATA_PATH), leave=False):\n",
    "    train_dataset += load_pickle(os.path.join(AUGMENTED_DATA_PATH, f))\n",
    "    \n",
    "logging.info(\"Loading valid dataset\")\n",
    "valid_dataset = load_pickle(os.path.join(VALID_DATA_PATH, \"valid.pickle\"))\n",
    "\n",
    "logging.info(\"Loading test dataset\")\n",
    "test_dataset = load_pickle(os.path.join(TEST_DATA_PATH, \"test.pickle\"))"
   ]
  },
  {
   "cell_type": "code",
   "execution_count": 9,
   "id": "1eff5d5f",
   "metadata": {},
   "outputs": [],
   "source": [
    "if VALIDATE_DATA:\n",
    "    logging.info(\"Validating train dataset\")\n",
    "    validate(train_dataset)\n",
    "\n",
    "    logging.info(\"Validating valid dataset\")\n",
    "    validate(valid_dataset)\n",
    "\n",
    "    logging.info(\"Validating test dataset\")\n",
    "    validate(test_dataset)"
   ]
  },
  {
   "cell_type": "code",
   "execution_count": 10,
   "id": "2909445e",
   "metadata": {},
   "outputs": [
    {
     "name": "stdout",
     "output_type": "stream",
     "text": [
      "Number of samples in train dataset: 3360\n",
      "Number of samples in valid dataset: 5\n",
      "Number of samples in test dataset: 5\n"
     ]
    }
   ],
   "source": [
    "logging.info(f\"Number of samples in train dataset: {len(train_dataset)}\")\n",
    "logging.info(f\"Number of samples in valid dataset: {len(valid_dataset)}\")\n",
    "logging.info(f\"Number of samples in test dataset: {len(test_dataset)}\")\n",
    "\n",
    "print(f\"Number of samples in train dataset: {len(train_dataset)}\")\n",
    "print(f\"Number of samples in valid dataset: {len(valid_dataset)}\")\n",
    "print(f\"Number of samples in test dataset: {len(test_dataset)}\")"
   ]
  },
  {
   "cell_type": "code",
   "execution_count": 11,
   "id": "623474ae",
   "metadata": {},
   "outputs": [],
   "source": [
    "LOG_BATCH_WINDOW = min(len(train_dataset) // 3 + 1, MIN_LOG_BATCH_WINDOW)\n",
    "NUM_TRAIN_BATCHES = len(train_dataset) // TRAIN_BATCH_SIZE + ceil(len(train_dataset) % TRAIN_BATCH_SIZE)\n",
    "NUM_VALID_BATCHES = len(valid_dataset) // VALID_BATCH_SIZE + ceil(len(valid_dataset) % VALID_BATCH_SIZE)\n",
    "NUM_TEST_BATCHES = len(test_dataset) // TEST_BATCH_SIZE + ceil(len(test_dataset) % TEST_BATCH_SIZE)\n",
    "logging.info(\"Preparing train, valid and test data loaders\")\n",
    "logging.info(f\"Batch size: train: {TRAIN_BATCH_SIZE}, valid: {VALID_BATCH_SIZE}, test: {TEST_BATCH_SIZE}\")\n",
    "logging.info(f\"Number of batches train: {NUM_TRAIN_BATCHES}, valid: {NUM_VALID_BATCHES}, test: {NUM_TEST_BATCHES}\")"
   ]
  },
  {
   "cell_type": "code",
   "execution_count": 12,
   "id": "78f3b8f4",
   "metadata": {},
   "outputs": [],
   "source": [
    "class CustomDataset(Dataset):\n",
    "    def __init__(\n",
    "      self, \n",
    "      dataset: List[Tuple[np.ndarray, np.ndarray]],\n",
    "      image_transformations=None, \n",
    "      mask_transformations=None ):\n",
    "        self.data = dataset\n",
    "        self.image_transformations = image_transformations\n",
    "        self.mask_transformations = mask_transformations\n",
    "\n",
    "    def __len__(self):\n",
    "        return len(self.data)\n",
    "\n",
    "    def __getitem__(self, idx):\n",
    "        img, mask = self.data[idx]\n",
    "        if self.image_transformations is not None:\n",
    "            img = self.image_transformations(img)\n",
    "            \n",
    "        if self.mask_transformations is not None:\n",
    "            mask = self.mask_transformations(mask)\n",
    "\n",
    "        return img, mask"
   ]
  },
  {
   "cell_type": "code",
   "execution_count": 13,
   "id": "8ad016ea",
   "metadata": {},
   "outputs": [],
   "source": [
    "image_transformations = Compose(\n",
    "    [\n",
    "#         ToTensor(),\n",
    "        Lambda(lambda x: torch.tensor(np.expand_dims(x, axis=0), dtype=torch.float32)),\n",
    "        Lambda(lambda x: functional.pad(x, padding=94, padding_mode=\"reflect\")),\n",
    "        Normalize(mean=(0.,), std=(255.,)),\n",
    "    ])\n",
    "\n",
    "mask_transformations = Compose(\n",
    "    [\n",
    "#         ToTensor(),\n",
    "        Lambda(lambda x: torch.tensor(np.expand_dims(x, axis=0), dtype=torch.float32)),\n",
    "#         Lambda(lambda x: x.float()),\n",
    "        Normalize(mean=(0.,), std=(255.,))\n",
    "   ])\n",
    "\n",
    "\n",
    "\n",
    "train_loader = DataLoader(\n",
    "    dataset=CustomDataset(\n",
    "        train_dataset, \n",
    "        image_transformations=image_transformations, \n",
    "        mask_transformations=mask_transformations), \n",
    "    batch_size = TRAIN_BATCH_SIZE, \n",
    "    shuffle = True)\n",
    "\n",
    "valid_loader = DataLoader(\n",
    "    dataset=CustomDataset(\n",
    "        valid_dataset, \n",
    "        image_transformations=image_transformations, \n",
    "        mask_transformations=mask_transformations), \n",
    "    batch_size = VALID_BATCH_SIZE, \n",
    "    shuffle = False)\n",
    "\n",
    "test_loader = DataLoader(\n",
    "    dataset=CustomDataset(\n",
    "        test_dataset, \n",
    "        image_transformations=image_transformations, \n",
    "        mask_transformations=mask_transformations), \n",
    "    batch_size = TEST_BATCH_SIZE, \n",
    "    shuffle = False)"
   ]
  },
  {
   "cell_type": "code",
   "execution_count": 14,
   "id": "09f7be65",
   "metadata": {},
   "outputs": [
    {
     "name": "stderr",
     "output_type": "stream",
     "text": [
      "                                                   \r"
     ]
    }
   ],
   "source": [
    "if VALIDATE_DATA:\n",
    "    logging.info(\"Validating masks of train, valid and test dataset\")\n",
    "    for X, Y in tqdm(train_loader, leave=False):\n",
    "        assert np.allclose(np.unique(Y), np.array([0., 1.]))\n",
    "\n",
    "    for X, Y in tqdm(valid_loader, leave=False):\n",
    "        assert np.allclose(np.unique(Y), np.array([0., 1.]))\n",
    "\n",
    "    for X, Y in tqdm(test_loader, leave=False):\n",
    "        assert np.allclose(np.unique(Y), np.array([0., 1.]))\n",
    "    logging.info(\"Validation of masks passed\")"
   ]
  },
  {
   "cell_type": "code",
   "execution_count": 15,
   "id": "490d0f5c",
   "metadata": {},
   "outputs": [],
   "source": [
    "if COMPUTE_PIXEL_WEIGHTS:\n",
    "    logging.info(\"Computing weights of 0 and 1 pixel values from train dataset\")\n",
    "    weights = []\n",
    "    for X, Y in tqdm(train_loader, leave=False):\n",
    "        weights.append(np.unique(Y, return_counts=True)[1])\n",
    "\n",
    "    weights = np.mean(np.array(weights), axis=0)\n",
    "    weights /= weights.sum()\n",
    "    weights = 1 - weights\n",
    "else:\n",
    "    weights = (.5, .5)\n",
    "    \n",
    "weights = (.6, .4)\n",
    "logging.info(f\"Weights for pixel values 0. and 1.: {weights}\")"
   ]
  },
  {
   "cell_type": "code",
   "execution_count": 16,
   "id": "48a7f365",
   "metadata": {},
   "outputs": [],
   "source": [
    "logging.info(\"Loading model in CPU\")\n",
    "unet = CustomUNet()"
   ]
  },
  {
   "cell_type": "code",
   "execution_count": 17,
   "id": "e5c0a7ce",
   "metadata": {},
   "outputs": [],
   "source": [
    "# saving at epoch level\n",
    "metrics = {\n",
    "    \"train\": {\"loss\": [], \"pixel-error\": []},\n",
    "    \"valid\": {\"loss\": [], \"pixel-error\": []},\n",
    "    \"min_valid_loss\": 1e10}"
   ]
  },
  {
   "cell_type": "code",
   "execution_count": 18,
   "id": "ee659029",
   "metadata": {},
   "outputs": [],
   "source": [
    "logging.info(\"Checking if model already exists\")\n",
    "\n",
    "if MODEL_NAME in os.listdir(MODEL_PATH):\n",
    "    logging.info(f\"{MODEL_NAME} already exists, loading weights\")\n",
    "    unet.load_state_dict(torch.load(os.path.join(MODEL_PATH, MODEL_NAME)))\n",
    "    metrics = load_pickle(os.path.join(MODEL_PATH, f\"{MODEL_NAME}.pickle\"))\n",
    "    logging.info(f\"Min valid loss: {metrics['min_valid_loss']}\")\n",
    "else:\n",
    "    logging.info(f\"{MODEL_NAME} does not exists\")"
   ]
  },
  {
   "cell_type": "code",
   "execution_count": 19,
   "id": "9c1a7d4b",
   "metadata": {},
   "outputs": [],
   "source": [
    "device = torch.device('cuda' if torch.cuda.is_available() else 'cpu')\n",
    "logging.info(f\"GPU available: {True if device.type == 'cuda' else False}\")\n",
    "\n",
    "unet.to(device)\n",
    "\n",
    "logging.info(\"Initiating optimizer\")\n",
    "optimizer = torch.optim.Adam(unet.parameters(), lr = LEARNING_RATE, betas=BETAS)\n",
    "\n",
    "logging.info(\"Initiating lr scheduler\")\n",
    "lr_scheduler = torch.optim.lr_scheduler.StepLR(optimizer=optimizer, step_size=100, gamma=.9)\n",
    "\n",
    "if OPTIMIZER_NAME in os.listdir(MODEL_PATH):\n",
    "    logging.info(f\"{OPTIMIZER_NAME} already exists, loading\")\n",
    "    optimizer.load_state_dict(torch.load(OPTIMIZER_NAME))\n",
    "else:\n",
    "    logging.info(f\"{OPTIMIZER_NAME} does not exists\")\n",
    "\n",
    "if LR_SCHEDULER_NAME in os.listdir(MODEL_PATH):\n",
    "    logging.info(f\"{LR_SCHEDULER_NAME} already exists, loading\")\n",
    "    lr_scheduler.load_state_dict(torch.load(LR_SCHEDULER_NAME))\n",
    "else:\n",
    "    logging.info(f\"{LR_SCHEDULER_NAME} does not exists\")"
   ]
  },
  {
   "cell_type": "code",
   "execution_count": null,
   "id": "8d0ddf6c",
   "metadata": {},
   "outputs": [
    {
     "name": "stderr",
     "output_type": "stream",
     "text": [
      "E: 0, M: train, B: 136/1120, BL:  0.39862, LR:  0.00018:   0%|          | 0/10 [01:27<?, ?it/s]"
     ]
    }
   ],
   "source": [
    "t = tqdm(range(EPOCHS), leave=False)\n",
    "for i in t:\n",
    "    with torch.set_grad_enabled(True):\n",
    "        unet.train() \n",
    "        total_loss = 0.\n",
    "        n = 0\n",
    "        for j, (X, Y) in enumerate(train_loader):  \n",
    "            X = X.to(device)\n",
    "            Y = Y.to(device)\n",
    "            optimizer.zero_grad()\n",
    "            Y_pred = unet(X)\n",
    "            loss = BCELoss(weights=weights, pred=Y_pred, target=Y)\n",
    "            loss.backward()\n",
    "            optimizer.step()\n",
    "            lr_scheduler.step()\n",
    "            n += len(X)\n",
    "            total_loss += loss.item() * len(X) \n",
    "            \n",
    "            info = f\"E: {i}, M: train, B: {j}/{NUM_TRAIN_BATCHES}, BL: {loss.item(): .5f}, LR: {optimizer.state_dict()['param_groups'][0]['lr']: .5f}\"\n",
    "            if j % LOG_BATCH_WINDOW == 0: logging.info(info)\n",
    "            t.set_description(info)\n",
    "        total_loss /= n\n",
    "    metrics[\"train\"][\"loss\"].append(total_loss) \n",
    "    logging.info(f\"Epoch: {i}, mode: train, loss: {total_loss}\")\n",
    "    \n",
    "    with torch.set_grad_enabled(False):\n",
    "        unet.eval() \n",
    "        total_loss = 0.\n",
    "        n = 0\n",
    "        for j, (X, Y) in enumerate(valid_loader):  \n",
    "            X = X.to(device)\n",
    "            Y = Y.to(device)\n",
    "            Y_pred = unet(X)\n",
    "            loss = BCELoss(weights=weights, pred=Y_pred, target=Y)\n",
    "            n += len(X)\n",
    "            total_loss += loss.item() * len(X)\n",
    "            info = f\"E: {i}, M: valid, B: {j}/{NUM_VALID_BATCHES}, BL: {loss.item(): .5f}\"\n",
    "            if j % LOG_BATCH_WINDOW == 0: logging.info(info)\n",
    "            t.set_description(info)\n",
    "        \n",
    "        total_loss /= n\n",
    "        \n",
    "        if total_loss < metrics[\"min_valid_loss\"]:\n",
    "            logging.info(f\"{'='*10} Updating and saving best model weights {'='*10}\")\n",
    "            metrics[\"min_valid_loss\"] = total_loss\n",
    "            torch.save(unet.state_dict(), os.path.join(MODEL_PATH, MODEL_NAME))\n",
    "            logging.info(f\"{'='*5} Saving optimizer and lr scheduler {'='*5}\")\n",
    "            torch.save(optimizer.state_dict(), os.path.join(MODEL_PATH, OPTIMIZER_NAME))\n",
    "            torch.save(lr_scheduler.state_dict(), os.path.join(MODEL_PATH, LR_SCHEDULER_NAME))\n",
    "            logging.info(f\"Min valid loss: {metrics['min_valid_loss']}\")\n",
    "        \n",
    "    metrics[\"valid\"][\"loss\"].append(total_loss)        \n",
    "    logging.info(f\"Epoch: {i}, mode: valid, loss: {total_loss}\")\n",
    "    \n",
    "    logging.info(\"Saving epoch metrics\")\n",
    "    with open(os.path.join(MODEL_PATH, f\"{MODEL_NAME}.pickle\"), \"wb\") as f:\n",
    "        dump(metrics, f)"
   ]
  },
  {
   "cell_type": "code",
   "execution_count": null,
   "id": "b8809191",
   "metadata": {},
   "outputs": [],
   "source": [
    "logging.info(\"Loading best model\")\n",
    "unet.load_state_dict(torch.load(os.path.join(MODEL_PATH, MODEL_NAME)))"
   ]
  },
  {
   "cell_type": "code",
   "execution_count": null,
   "id": "ae068e34",
   "metadata": {},
   "outputs": [],
   "source": [
    "logging.info(\"Testing Model\")\n",
    "j = np.random.choice(len(valid_loader))\n",
    "for i, (img, mask) in enumerate(test_loader):\n",
    "    if i == j:\n",
    "        break\n",
    "        print()"
   ]
  },
  {
   "cell_type": "code",
   "execution_count": null,
   "id": "da528458",
   "metadata": {},
   "outputs": [],
   "source": [
    "device = \"cpu\"\n",
    "unet.to(device)\n",
    "unet.eval()\n",
    "output = unet(img.to(device)).detach()"
   ]
  },
  {
   "cell_type": "code",
   "execution_count": null,
   "id": "a32bc786",
   "metadata": {},
   "outputs": [],
   "source": [
    "def process_output(\n",
    "    output: torch.tensor,\n",
    "    threshold: float=.5):\n",
    "    return torch.where(torch.sigmoid(output) >= threshold, 1., 0.)"
   ]
  },
  {
   "cell_type": "code",
   "execution_count": null,
   "id": "1e89ccc8",
   "metadata": {},
   "outputs": [],
   "source": [
    "fig, (ax1, ax2, ax3) = plt.subplots(ncols=3, figsize=(20, 7))\n",
    "i = 0\n",
    "ax1.imshow(CenterCrop(512)(img)[i][0], cmap=\"gray\")\n",
    "ax2.imshow(mask[i][0], cmap=\"gray\")\n",
    "ax3.imshow(process_output(output)[i][0], cmap=\"gray\")\n",
    "plt.show()"
   ]
  },
  {
   "cell_type": "code",
   "execution_count": null,
   "id": "c0c99f3a",
   "metadata": {},
   "outputs": [],
   "source": []
  }
 ],
 "metadata": {
  "kernelspec": {
   "display_name": "biomedical_image_segmentation",
   "language": "python",
   "name": "biomedical_image_segmentation"
  },
  "language_info": {
   "codemirror_mode": {
    "name": "ipython",
    "version": 3
   },
   "file_extension": ".py",
   "mimetype": "text/x-python",
   "name": "python",
   "nbconvert_exporter": "python",
   "pygments_lexer": "ipython3",
   "version": "3.9.2"
  }
 },
 "nbformat": 4,
 "nbformat_minor": 5
}
