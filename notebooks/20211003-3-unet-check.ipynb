{
 "cells": [
  {
   "cell_type": "code",
   "execution_count": 1,
   "id": "652065c2",
   "metadata": {},
   "outputs": [],
   "source": [
    "%load_ext autoreload\n",
    "%autoreload 2"
   ]
  },
  {
   "cell_type": "code",
   "execution_count": 2,
   "id": "0acc6aba-5636-401e-8b1e-6ca4af999518",
   "metadata": {},
   "outputs": [],
   "source": [
    "import torch\n",
    "import pdb"
   ]
  },
  {
   "cell_type": "code",
   "execution_count": 3,
   "id": "312a67f5",
   "metadata": {},
   "outputs": [],
   "source": [
    "from biomedical_image_segmentation.modules import unet_v2"
   ]
  },
  {
   "cell_type": "code",
   "execution_count": 9,
   "id": "6460f2b1-30a7-4dac-af92-f9234f1a39e9",
   "metadata": {},
   "outputs": [],
   "source": [
    "x_in = torch.randn(1,3,716,716)"
   ]
  },
  {
   "cell_type": "code",
   "execution_count": 10,
   "id": "5835feda",
   "metadata": {},
   "outputs": [
    {
     "data": {
      "text/plain": [
       "torch.Size([1, 64, 712, 712])"
      ]
     },
     "execution_count": 10,
     "metadata": {},
     "output_type": "execute_result"
    }
   ],
   "source": [
    "multi_conv2d = unet_v2.MultiConv2d(\n",
    "    in_channels=3, \n",
    "    out_channels=64, \n",
    "    kernel_size=3, \n",
    "    padding=0, \n",
    "    padding_mode=\"zeros\",\n",
    "    stride=1, \n",
    "    dilation=1,\n",
    "    bias=True,\n",
    "    norm=\"batchnorm\",\n",
    "    act=\"relu\", \n",
    "    num_conv2d=2)\n",
    "multi_conv2d.forward(x_in).shape"
   ]
  },
  {
   "cell_type": "code",
   "execution_count": 13,
   "id": "dd32607d",
   "metadata": {},
   "outputs": [
    {
     "data": {
      "text/plain": [
       "(torch.Size([1, 1024, 37, 37]),\n",
       " [torch.Size([1, 64, 712, 712]),\n",
       "  torch.Size([1, 128, 352, 352]),\n",
       "  torch.Size([1, 256, 172, 172]),\n",
       "  torch.Size([1, 512, 82, 82])])"
      ]
     },
     "execution_count": 13,
     "metadata": {},
     "output_type": "execute_result"
    }
   ],
   "source": [
    "encoder = unet_v2.UNetEncoder(\n",
    "    in_channels=3, \n",
    "    out_channels=[64, 128, 256, 512, 1024], \n",
    "    kernel_size=3, \n",
    "    padding=0, \n",
    "    padding_mode=\"zeros\",\n",
    "    stride=1, \n",
    "    dilation=1,\n",
    "    bias=True,\n",
    "    norm=\"batchnorm\",\n",
    "    act=\"relu\", \n",
    "    num_conv2d=2)\n",
    "x_en_out, down_X = encoder(x_in)\n",
    "x_en_out.shape, [y.shape for y in down_X]"
   ]
  },
  {
   "cell_type": "code",
   "execution_count": 16,
   "id": "770b2ada",
   "metadata": {},
   "outputs": [
    {
     "data": {
      "text/plain": [
       "torch.Size([1, 64, 532, 532])"
      ]
     },
     "execution_count": 16,
     "metadata": {},
     "output_type": "execute_result"
    }
   ],
   "source": [
    "decoder = unet_v2.UNetDecoder(\n",
    "    in_channels=1024, \n",
    "    out_channels=[64, 128, 256, 512, 1024][::-1][1:], \n",
    "    kernel_size=3, \n",
    "    padding=0, \n",
    "    padding_mode=\"zeros\",\n",
    "    stride=1, \n",
    "    dilation=1,\n",
    "    bias=True,\n",
    "    norm=\"batchnorm\",\n",
    "    act=\"relu\", \n",
    "    num_conv2d=2)\n",
    "x_de_out = decoder(x_en_out, down_X)\n",
    "x_de_out.shape"
   ]
  },
  {
   "cell_type": "code",
   "execution_count": 9,
   "id": "ca9274ef",
   "metadata": {},
   "outputs": [
    {
     "data": {
      "text/plain": [
       "torch.Size([1, 64, 516, 516])"
      ]
     },
     "execution_count": 9,
     "metadata": {},
     "output_type": "execute_result"
    }
   ],
   "source": [
    "x = decoder(x,downs_X)\n",
    "x.shape"
   ]
  },
  {
   "cell_type": "code",
   "execution_count": 21,
   "id": "418a6010",
   "metadata": {},
   "outputs": [
    {
     "data": {
      "text/plain": [
       "torch.Size([1, 64, 516, 516])"
      ]
     },
     "execution_count": 21,
     "metadata": {},
     "output_type": "execute_result"
    }
   ],
   "source": [
    "unet = unet_v2.UNet(\n",
    "    in_channels=3, \n",
    "    out_channels=[64, 128, 256, 512, 1024],\n",
    "    kernel_size=3, \n",
    "    padding=0, \n",
    "    padding_mode=\"zeros\",\n",
    "    stride=1, \n",
    "    dilation=1,\n",
    "    bias=True,\n",
    "    norm=\"batchnorm\",\n",
    "    act=\"relu\", \n",
    "    num_conv2d=2)\n",
    "unet.eval()\n",
    "x = unet(torch.randn(1,3,700,700))\n",
    "x.shape"
   ]
  },
  {
   "cell_type": "code",
   "execution_count": null,
   "id": "b5644c16-ccdd-4515-ab1c-413aee359014",
   "metadata": {},
   "outputs": [],
   "source": []
  }
 ],
 "metadata": {
  "kernelspec": {
   "display_name": "biomedical_image_segmentation",
   "language": "python",
   "name": "biomedical_image_segmentation"
  },
  "language_info": {
   "codemirror_mode": {
    "name": "ipython",
    "version": 3
   },
   "file_extension": ".py",
   "mimetype": "text/x-python",
   "name": "python",
   "nbconvert_exporter": "python",
   "pygments_lexer": "ipython3",
   "version": "3.9.2"
  }
 },
 "nbformat": 4,
 "nbformat_minor": 5
}
